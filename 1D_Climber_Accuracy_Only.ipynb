{
  "nbformat": 4,
  "nbformat_minor": 0,
  "metadata": {
    "colab": {
      "name": "1D Climber Accuracy Only.ipynb",
      "provenance": [],
      "collapsed_sections": [],
      "authorship_tag": "ABX9TyNM6AcCL61Sx7P88nZZBzYC",
      "include_colab_link": true
    },
    "kernelspec": {
      "name": "python3",
      "display_name": "Python 3"
    }
  },
  "cells": [
    {
      "cell_type": "markdown",
      "metadata": {
        "id": "view-in-github",
        "colab_type": "text"
      },
      "source": [
        "<a href=\"https://colab.research.google.com/github/y2236li/Algorithm-Practice/blob/master/1D_Climber_Accuracy_Only.ipynb\" target=\"_parent\"><img src=\"https://colab.research.google.com/assets/colab-badge.svg\" alt=\"Open In Colab\"/></a>"
      ]
    },
    {
      "cell_type": "code",
      "metadata": {
        "id": "KodYndVaSabN",
        "colab_type": "code",
        "colab": {
          "base_uri": "https://localhost:8080/",
          "height": 51
        },
        "outputId": "d92b6529-6806-4bad-a967-5b91fca90b63"
      },
      "source": [
        "%load_ext autoreload"
      ],
      "execution_count": 3,
      "outputs": [
        {
          "output_type": "stream",
          "text": [
            "The autoreload extension is already loaded. To reload it, use:\n",
            "  %reload_ext autoreload\n"
          ],
          "name": "stdout"
        }
      ]
    },
    {
      "cell_type": "code",
      "metadata": {
        "id": "YhWNKkkQStGw",
        "colab_type": "code",
        "colab": {
          "base_uri": "https://localhost:8080/",
          "height": 122
        },
        "outputId": "8ee5c433-664a-41b2-b710-9295b82293ee"
      },
      "source": [
        "from google.colab import drive\n",
        "drive.mount('/content/drive')"
      ],
      "execution_count": 4,
      "outputs": [
        {
          "output_type": "stream",
          "text": [
            "Go to this URL in a browser: https://accounts.google.com/o/oauth2/auth?client_id=947318989803-6bn6qk8qdgf4n4g3pfee6491hc0brc4i.apps.googleusercontent.com&redirect_uri=urn%3aietf%3awg%3aoauth%3a2.0%3aoob&response_type=code&scope=email%20https%3a%2f%2fwww.googleapis.com%2fauth%2fdocs.test%20https%3a%2f%2fwww.googleapis.com%2fauth%2fdrive%20https%3a%2f%2fwww.googleapis.com%2fauth%2fdrive.photos.readonly%20https%3a%2f%2fwww.googleapis.com%2fauth%2fpeopleapi.readonly\n",
            "\n",
            "Enter your authorization code:\n",
            "··········\n",
            "Mounted at /content/drive\n"
          ],
          "name": "stdout"
        }
      ]
    },
    {
      "cell_type": "code",
      "metadata": {
        "id": "VsBhYIVGSuLh",
        "colab_type": "code",
        "colab": {
          "base_uri": "https://localhost:8080/",
          "height": 34
        },
        "outputId": "0b981f75-9b59-402c-d4ad-887730468571"
      },
      "source": [
        "cd drive/My\\ Drive/kiwi_research/kiwi_project"
      ],
      "execution_count": 5,
      "outputs": [
        {
          "output_type": "stream",
          "text": [
            "/content/drive/My Drive/kiwi_research/kiwi_project\n"
          ],
          "name": "stdout"
        }
      ]
    },
    {
      "cell_type": "code",
      "metadata": {
        "id": "BfnLmDrVSvXl",
        "colab_type": "code",
        "colab": {}
      },
      "source": [
        "from sklearn.preprocessing import MinMaxScaler\n",
        "import os\n",
        "import tensorflow as tf\n",
        "import collections\n",
        "import pickle\n",
        "import pandas as pd\n",
        "import numpy as np\n",
        "import matplotlib.pyplot as plt\n",
        "from tqdm import tqdm\n",
        "from sklearn.svm import SVR\n",
        "from sklearn.metrics import r2_score\n",
        "from sklearn.cross_decomposition import PLSRegression\n",
        "from keras.layers import Dense, Activation\n",
        "from keras.models import Sequential, load_model\n",
        "from keras.optimizers import Adam, SGD"
      ],
      "execution_count": 0,
      "outputs": []
    },
    {
      "cell_type": "code",
      "metadata": {
        "id": "ojOVnGdfS1-8",
        "colab_type": "code",
        "colab": {}
      },
      "source": [
        "def calAccuracy(x):\n",
        "  \"\"\"\n",
        "  Calculate the accuracy\n",
        "  return: accuracy\n",
        "  \"\"\"\n",
        "  pls2 = PLSRegression(n_components=x)\n",
        "  pls2.fit(X_train, Y_train)\n",
        "  Y_pred = pls2.predict(X_test)\n",
        "  y = r2_score(Y_pred, Y_test)\n",
        "\n",
        "  return y\n",
        "\n",
        "\n",
        "def calReward(x):\n",
        "  return accuracy_lookuptb[x]\n",
        "\n",
        "def detect(detect_range, x, accuracy_lookuptb = None):\n",
        "  \"\"\"\n",
        "  return the accuracy of detecting area around the x\n",
        "  \n",
        "  \"\"\"\n",
        "  x_detect_range = np.array(detect_range) + x\n",
        "  if not accuracy_lookuptb:\n",
        "    return [calAccuracy(pos) if pos in x_range else 0 for pos in x_detect_range]\n",
        "  assert x in accuracy_lookuptb\n",
        "  return [accuracy_lookuptb[pos] if pos in x_range else 0 for pos in x_detect_range]\n",
        "\n",
        "\n",
        "def step(cur_state, action, cur_x, accuracy_lookuptb = None):\n",
        "  next_x = max(min(max(x_range), cur_x + action), 1)\n",
        "  if not accuracy_lookuptb:\n",
        "    next_state = detect(detect_range, next_x)\n",
        "  else:\n",
        "    next_state = detect(detect_range, next_x, accuracy_lookuptb)\n",
        "  reward = calReward(next_x)\n",
        "  return (next_state, reward)\n",
        "\n",
        "def writeMem(cur_state, next_state, action, reward):\n",
        "  index = mem_ctr % mem_size\n",
        "  state_mem[index] = cur_state\n",
        "  next_state_mem[index] = next_state\n",
        "  tmp_onehot = np.zeros(len(step_options), dtype=np.int64)\n",
        "  tmp_onehot[step_options.index(action)] = 1\n",
        "  onehot_action_mem[index] = tmp_onehot\n",
        "  reward_nor_mem[index] = reward\n",
        "\n",
        "\n",
        "\n",
        "def calAccuracyTest(x):\n",
        "  \"\"\"\n",
        "  Calculate the accuracy\n",
        "  return: accuracy\n",
        "  \"\"\"\n",
        "  pls2 = PLSRegression(n_components=x)\n",
        "  pls2.fit(X_train_test, Y_train_test)\n",
        "  Y_pred = pls2.predict(X_test_test)\n",
        "  y = r2_score(Y_pred, Y_test_test)\n",
        "  return y\n",
        "\n",
        "def calRewardTest(x):\n",
        "  return scaler_state.transform(accuracy_lookuptb_test[x])\n",
        "\n",
        "\n",
        "def detectTest(detect_range, x):\n",
        "  \"\"\"\n",
        "  return the accuracy of detecting area around the x\n",
        "  \"\"\"\n",
        "  x_detect_range = np.array(detect_range, dtype=np.int64) + int(x)\n",
        "  return [calRewardTest(pos) if pos in x_range else 0 for pos in x_detect_range]\n",
        "\n",
        "\n",
        "\n",
        "def stepTest(cur_state, action, cur_x):\n",
        "  next_x = int(max(min(max(x_range), cur_x + action), 1))\n",
        "  next_state = detectTest(detect_range, next_x)\n",
        "  reward = calRewardTest(next_x)\n",
        "  return (next_state, reward)\n",
        "\n",
        "def writeMem(cur_state, next_state, action, reward):\n",
        "  index = mem_ctr % mem_size\n",
        "  state_mem[index] = cur_state\n",
        "  next_state_mem[index] = next_state\n",
        "  tmp_onehot = np.zeros(len(step_options), dtype=np.int64)\n",
        "  tmp_onehot[step_options.index(action)] = 1\n",
        "  onehot_action_mem[index] = tmp_onehot\n",
        "  reward_nor_mem[index] = reward"
      ],
      "execution_count": 0,
      "outputs": []
    },
    {
      "cell_type": "markdown",
      "metadata": {
        "id": "w1PB-jXTa_Eo",
        "colab_type": "text"
      },
      "source": [
        "## Global Variables"
      ]
    },
    {
      "cell_type": "code",
      "metadata": {
        "id": "bVZHkvofa8KC",
        "colab_type": "code",
        "colab": {}
      },
      "source": [
        "f_xy = open(\"pickles/XYtraintest.pk1\", \"rb\")\n",
        "X_train, X_test, Y_train, Y_test = pickle.load(f_xy)\n",
        "f_xy.close()\n",
        "\n",
        "x_range = range(1, 200)\n",
        "\n",
        "idle_range = 0.001 # if the change of recent steps (idle steps) did not have a change of this range. Game will be over\n",
        "idle_steps = 5\n",
        "\n",
        "detect_range = [-3, -1, 0, 1, 3] # also input dim\n",
        "step_options = [-3, -1, 0, 1, 3] # also action space\n",
        "\n",
        "lr = 0.01 # also alpha\n",
        "one_game_steps = 300\n",
        "\n",
        "\n",
        "gamma = 0.8\n",
        "\n",
        "\n",
        "#memory variables\n",
        "mem_ctr = 0\n",
        "state_mem = {}\n",
        "onehot_action_mem = {}\n",
        "reward_nor_mem = {}\n",
        "next_state_mem = {}\n",
        "terminal_mem = {}"
      ],
      "execution_count": 0,
      "outputs": []
    },
    {
      "cell_type": "markdown",
      "metadata": {
        "id": "-KPveC5ob2ow",
        "colab_type": "text"
      },
      "source": [
        "## Find a accuracy map with relatively wide range of accuracy"
      ]
    },
    {
      "cell_type": "code",
      "metadata": {
        "id": "CAo4tAdmbEgn",
        "colab_type": "code",
        "outputId": "2a8aa339-3c67-41d5-d941-8396395b09fd",
        "colab": {
          "base_uri": "https://localhost:8080/",
          "height": 282
        }
      },
      "source": [
        "X = np.concatenate((X_train, X_test))\n",
        "Y = np.concatenate((Y_train, Y_test))\n",
        "train_indices = np.random.choice(X.shape[0], 300, replace=False)\n",
        "test_indices = np.array([x for x in range(X.shape[0]) if x not in train_indices])\n",
        "X_train = X[train_indices]\n",
        "X_test = X[test_indices]\n",
        "Y_train = Y[train_indices]\n",
        "Y_test = Y[test_indices]\n",
        "accuracy_list = []\n",
        "for x in x_range:\n",
        "  accuracy_list.append(calAccuracy(x))\n",
        "plt.plot(accuracy_list)\n",
        "plt.show()\n",
        "print(np.argmax(accuracy_list))"
      ],
      "execution_count": 10,
      "outputs": [
        {
          "output_type": "display_data",
          "data": {
            "image/png": "[encoded data removed]",
            "text/plain": [
              "<Figure size 432x288 with 1 Axes>"
            ]
          },
          "metadata": {
            "tags": []
          }
        },
        {
          "output_type": "stream",
          "text": [
            "10\n"
          ],
          "name": "stdout"
        }
      ]
    },
    {
      "cell_type": "markdown",
      "metadata": {
        "id": "ALlRs3HdcTHr",
        "colab_type": "text"
      },
      "source": [
        "## Game Initialization"
      ]
    },
    {
      "cell_type": "code",
      "metadata": {
        "id": "iKmdhb-nb4hD",
        "colab_type": "code",
        "colab": {}
      },
      "source": [
        "mem_size = one_game_steps * 4\n",
        "batch_size = int(one_game_steps /64) * 64\n",
        "assert batch_size <= mem_size\n",
        "random_walk_period = batch_size\n",
        "\n",
        "accuracy_lookuptb = dict(zip(*(x_range, accuracy_list)))\n",
        "\n",
        "random_walk_period = batch_size\n",
        "scaler_state = MinMaxScaler()\n",
        "scaler_state.fit([detect(detect_range, x, accuracy_lookuptb) for x in x_range if np.prod(detect(detect_range, x, accuracy_lookuptb)) > 0])\n",
        "\n",
        "scaler_reward = MinMaxScaler()\n",
        "scaler_reward.fit([[x] for x in accuracy_list])\n",
        "\n",
        "init_x = 190\n",
        "detection = detect(detect_range, init_x, accuracy_lookuptb)\n",
        "cur_nor_state = scaler_state.transform([detection])[0]\n",
        "cur_state = scaler_state.inverse_transform([cur_nor_state])[0]\n",
        "\n",
        "init_state = cur_state\n",
        "init_nor_state = cur_nor_state"
      ],
      "execution_count": 0,
      "outputs": []
    },
    {
      "cell_type": "code",
      "metadata": {
        "id": "eS-pGFzDyt2T",
        "colab_type": "code",
        "colab": {}
      },
      "source": [
        ""
      ],
      "execution_count": 0,
      "outputs": []
    },
    {
      "cell_type": "markdown",
      "metadata": {
        "id": "6Zl3xHapcac6",
        "colab_type": "text"
      },
      "source": [
        "## Make a NN"
      ]
    },
    {
      "cell_type": "code",
      "metadata": {
        "id": "Pkq3RT6dcVnk",
        "colab_type": "code",
        "colab": {}
      },
      "source": [
        "def makeModel():\n",
        "  fc1_dims = 200\n",
        "  fc2_dims = 200\n",
        "  model = Sequential([\n",
        "      Dense(fc1_dims, input_shape=(np.array(cur_state).shape[0],)),\n",
        "      Activation('relu'),\n",
        "      Dense(fc2_dims),\n",
        "      Activation('relu'),\n",
        "      Dense(len(step_options))\n",
        "  ])\n",
        "\n",
        "\n",
        "  model.compile(optimizer=SGD(lr=0.01, decay=1e-6, momentum=0.9, nesterov=True), loss='mse')\n",
        "\n",
        "  return model\n",
        "\n",
        "q_model = makeModel()"
      ],
      "execution_count": 0,
      "outputs": []
    },
    {
      "cell_type": "markdown",
      "metadata": {
        "id": "-JPePGUpeVGx",
        "colab_type": "text"
      },
      "source": [
        "## Main"
      ]
    },
    {
      "cell_type": "code",
      "metadata": {
        "id": "HfIL_MoHcfhb",
        "colab_type": "code",
        "outputId": "edca6304-706f-42ed-bf96-06da98e3cf55",
        "colab": {
          "base_uri": "https://localhost:8080/",
          "height": 1000
        }
      },
      "source": [
        "mem_ctr = 0\n",
        "state_mem = {}\n",
        "onehot_action_mem = {}\n",
        "reward_nor_mem = {}\n",
        "next_state_mem = {}\n",
        "terminal_mem = {}\n",
        "\n",
        "reward_nor_his = []\n",
        "\n",
        "n_games = 10\n",
        "gamma = 0.5\n",
        "\n",
        "epsilon = 0.1\n",
        "epsilon_dec = 0.8\n",
        "\n",
        "cur_x = init_x\n",
        "\n",
        "rule_idle = True\n",
        "\n",
        "idle_range = 0.0002\n",
        "idle_steps = 5\n",
        "reward_nor_buffer = []\n",
        "\n",
        "last_action = 0\n",
        "momentum_counter = 0\n",
        "count_momentum = True\n",
        "\n",
        "\n",
        "for _ in tqdm(range(n_games)):\n",
        "  cur_x = np.random.choice(x_range)\n",
        "  for step_ctr in range(one_game_steps):\n",
        "    \n",
        "  # predict action\n",
        "    \n",
        "    if count_momentum:\n",
        "      last_action = action\n",
        "\n",
        "    if mem_ctr < random_walk_period or np.random.uniform() <= epsilon:\n",
        "      action = np.random.choice(step_options)\n",
        "    else:\n",
        "      # once random walk were done, the state in memory will be normalized\n",
        "\n",
        "      indices = np.random.choice(len(state_mem), batch_size, replace=False)\n",
        "\n",
        "      batch_states = np.array(list(state_mem.values()))[indices]\n",
        "      batch_next_states = np.array(list(next_state_mem.values()))[indices]\n",
        "      batch_actions = np.array(list(onehot_action_mem.values()))[indices]\n",
        "      batch_rewards = np.array(list(reward_nor_mem.values()))[indices]\n",
        "\n",
        "      q_matrix = q_model.predict(batch_states)\n",
        "      q_next = q_model.predict(batch_next_states)\n",
        "\n",
        "      actions_indices = np.dot(batch_actions, np.arange(len(step_options), dtype=np.int64))\n",
        "      batch_indices = np.arange(batch_size, dtype=np.int64)\n",
        "\n",
        "      q_matrix[batch_indices, actions_indices] = batch_rewards + gamma*np.max(q_next, axis=1)\n",
        "\n",
        "\n",
        "      q_model.fit(batch_states, q_matrix, verbose=0, epochs = 1)\n",
        "\n",
        "      action = step_options[np.argmax(q_model.predict(cur_nor_state.reshape(1, len(cur_state))))]\n",
        "    \n",
        "    if action == 0:\n",
        "      action = np.random.choice([1, -1])\n",
        "\n",
        "    \n",
        "    if count_momentum and last_action * action >0:\n",
        "      momentum_counter += 1\n",
        "    next_state, reward = step(cur_state, action, cur_x, accuracy_lookuptb)\n",
        "    reward_nor = scaler_reward.transform([[reward]])[0][0]\n",
        "\n",
        "    if rule_idle:\n",
        "      try:\n",
        "        reward_nor_buffer[mem_ctr%idle_steps] = reward_nor\n",
        "        if mem_ctr >= random_walk_period and max(reward_nor_buffer) - min(reward_nor_buffer) < idle_range:\n",
        "          break\n",
        "      except:\n",
        "        reward_nor_buffer.append(reward_nor)\n",
        "    \n",
        "\n",
        "    next_nor_state = scaler_state.transform([next_state])[0]\n",
        "    next_x = max(min(cur_x + action, 200), 1)\n",
        "    \n",
        "    writeMem(cur_nor_state, next_nor_state, action, reward_nor)\n",
        "\n",
        "    # print(\"cur_state = %s, cur_x = %s, action = %s, reward = %s\"%(str(cur_state), str(cur_x), str(action), str(reward)))\n",
        "    # print(reward_nor_buffer, max(reward_nor_buffer)- min(reward_nor_buffer))\n",
        "    reward_nor_his.append(reward_nor)\n",
        "\n",
        "    cur_state = next_state\n",
        "    cur_nor_state = next_nor_state\n",
        "    cur_x = next_x\n",
        "\n",
        "    mem_ctr += 1\n",
        "\n",
        "if count_momentum:\n",
        "  print(\"Momentum = \", momentum_counter/mem_ctr)"
      ],
      "execution_count": 145,
      "outputs": [
        {
          "output_type": "stream",
          "text": [
            "\n",
            "\n",
            "\n",
            "\n",
            "\n",
            "  0%|          | 0/10 [00:00<?, ?it/s]\u001b[A\u001b[A\u001b[A\u001b[A\u001b[A\n",
            "\n",
            "\n",
            "\n",
            "\n",
            " 10%|█         | 1/10 [00:02<00:20,  2.24s/it]\u001b[A\u001b[A\u001b[A\u001b[A\u001b[A\n",
            "\n",
            "\n",
            "\n",
            "\n",
            " 20%|██        | 2/10 [00:08<00:26,  3.33s/it]\u001b[A\u001b[A\u001b[A\u001b[A\u001b[A\n",
            "\n",
            "\n",
            "\n",
            "\n",
            " 30%|███       | 3/10 [00:13<00:28,  4.09s/it]\u001b[A\u001b[A\u001b[A\u001b[A\u001b[A\n",
            "\n",
            "\n",
            "\n",
            "\n",
            " 40%|████      | 4/10 [00:14<00:18,  3.13s/it]\u001b[A\u001b[A\u001b[A\u001b[A\u001b[A\n",
            "\n",
            "\n",
            "\n",
            "\n",
            " 50%|█████     | 5/10 [00:16<00:13,  2.79s/it]\u001b[A\u001b[A\u001b[A\u001b[A\u001b[A\n",
            "\n",
            "\n",
            "\n",
            "\n",
            " 60%|██████    | 6/10 [00:18<00:09,  2.38s/it]\u001b[A\u001b[A\u001b[A\u001b[A\u001b[A\n",
            "\n",
            "\n",
            "\n",
            "\n",
            " 70%|███████   | 7/10 [00:24<00:10,  3.45s/it]\u001b[A\u001b[A\u001b[A\u001b[A\u001b[A\n",
            "\n",
            "\n",
            "\n",
            "\n",
            " 80%|████████  | 8/10 [00:29<00:08,  4.01s/it]\u001b[A\u001b[A\u001b[A\u001b[A\u001b[A\n",
            "\n",
            "\n",
            "\n",
            "\n",
            " 90%|█████████ | 9/10 [00:30<00:03,  3.19s/it]\u001b[A\u001b[A\u001b[A\u001b[A\u001b[A\n",
            "\n",
            "\n",
            "\n",
            "\n",
            "100%|██████████| 10/10 [00:32<00:00,  2.61s/it]\u001b[A\u001b[A\u001b[A\u001b[A\u001b[A\n",
            "\n",
            "\n",
            "\n",
            "\n",
            "\u001b[A\u001b[A\u001b[A\u001b[A\u001b[A"
          ],
          "name": "stderr"
        },
        {
          "output_type": "stream",
          "text": [
            "Momentum =  0.5331846068042387\n"
          ],
          "name": "stdout"
        }
      ]
    },
    {
      "cell_type": "code",
      "metadata": {
        "id": "UH-eVQtGWvNT",
        "colab_type": "code",
        "colab": {
          "base_uri": "https://localhost:8080/",
          "height": 282
        },
        "outputId": "1d0c0b0b-21af-4007-8fe1-d9fa090e31b5"
      },
      "source": [
        "plt.plot([x for x in reward_nor_his if x > 0])"
      ],
      "execution_count": 146,
      "outputs": [
        {
          "output_type": "execute_result",
          "data": {
            "text/plain": [
              "[<matplotlib.lines.Line2D at 0x7f1a0c5dc550>]"
            ]
          },
          "metadata": {
            "tags": []
          },
          "execution_count": 146
        },
        {
          "output_type": "display_data",
          "data": {
            "image/png": "[encoded data removed]",
            "text/plain": [
              "<Figure size 432x288 with 1 Axes>"
            ]
          },
          "metadata": {
            "tags": []
          }
        }
      ]
    },
    {
      "cell_type": "code",
      "metadata": {
        "id": "uIcykpM0oPYA",
        "colab_type": "code",
        "colab": {}
      },
      "source": [
        ""
      ],
      "execution_count": 0,
      "outputs": []
    }
  ]
}