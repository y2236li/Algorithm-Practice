{
 "cells": [
  {
   "cell_type": "markdown",
   "metadata": {},
   "source": [
    "# Maximize Profit with K transaction -- Solved by Dynamic Programming"
   ]
  },
  {
   "cell_type": "markdown",
   "metadata": {},
   "source": [
    "<img src=\"img/Maximize Profit.png\" height=50>"
   ]
  },
  {
   "cell_type": "markdown",
   "metadata": {},
   "source": [
    "## General Idea:\n",
    "Set max profit in hash table to 0 when k = 0<br>\n",
    "When k > 0 <br>\n",
    "<br>max_profit_today = |--the max profit in this period when k = k -1-- | --the max profit from (last sell date+1) to today|\n",
    "\n"
   ]
  },
  {
   "cell_type": "code",
   "execution_count": 3,
   "metadata": {},
   "outputs": [
    {
     "data": {
      "text/plain": [
       "93"
      ]
     },
     "execution_count": 3,
     "metadata": {},
     "output_type": "execute_result"
    }
   ],
   "source": [
    "prices = [5, 11, 3, 50, 60, 90]\n",
    "k = 2\n",
    "def maxProfitWithKTransactions(prices, k):\n",
    "    hash_table = {0: [0]*len(prices)}\n",
    "    for i in range(1, k+1):\n",
    "        hash_table[i] = [0]\n",
    "        for date in range(1, len(prices)):\n",
    "            last_day_max_profit = hash_table[i][date-1]\n",
    "            max_profit = last_day_max_profit\n",
    "            for last_sell_date in range(0, date):\n",
    "                last_sell_date_max_profit = hash_table[i-1][last_sell_date] + prices[date] - prices[last_sell_date]\n",
    "                max_profit = max(max_profit, last_sell_date_max_profit)\n",
    "            hash_table[i].append(max_profit)\n",
    "    return max_profit\n",
    "        \n",
    "maxProfitWithKTransactions(prices, k)"
   ]
  },
  {
   "cell_type": "markdown",
   "metadata": {},
   "source": [
    "# Find All Substring\n"
   ]
  },
  {
   "cell_type": "code",
   "execution_count": 16,
   "metadata": {},
   "outputs": [
    {
     "data": {
      "text/plain": [
       "[0, 3, 6, 9]"
      ]
     },
     "execution_count": 16,
     "metadata": {},
     "output_type": "execute_result"
    }
   ],
   "source": [
    "import re\n",
    "s: str = \"ABCABCABCABCABC\"\n",
    "pat: str = \"(?=ABCA)\"\n",
    "    \n",
    "[x.start() for x in re.finditer(pat, s)]"
   ]
  },
  {
   "cell_type": "markdown",
   "metadata": {},
   "source": [
    "# Palindrome Pairs\n",
    "https://leetcode.com/articles/palindrome-pairs/ <br>\n",
    "Given a list of unique words, find all pairs of distinct indices (i, j) in the given list, so that the concatenation of the two words, i.e. words[i] + words[j] is a palindrome.\n",
    "\n",
    "Example:\n",
    "\n",
    "**Input**: [\"abcd\",\"dcba\",\"lls\",\"s\",\"sssll\"] <br>\n",
    "**Output**: [[0,1],[1,0],[3,2],[2,4]] <br>\n",
    "**Explanation**: The palindromes are [\"dcbaabcd\",\"abcddcba\",\"slls\",\"llssssll\"]"
   ]
  },
  {
   "cell_type": "markdown",
   "metadata": {},
   "source": [
    "## - Solution\n",
    "<img src=\"img/Palindrom pair 3 cases.png\" height=50>\n",
    "\n",
    "Key points:\n",
    "- We save words reversely so that we could find palindrome easily\n",
    "- The node is marked if this is the end of a word\n",
    "- Trie detects suffixes which are palindrome and stored the word index to the level where the subffix start. This helps if we could find a reverse word end at the start of the subffix, then the two words is a palindrome pair"
   ]
  },
  {
   "cell_type": "code",
   "execution_count": 5,
   "metadata": {},
   "outputs": [
    {
     "data": {
      "text/plain": [
       "[[0, 1]]"
      ]
     },
     "execution_count": 5,
     "metadata": {},
     "output_type": "execute_result"
    }
   ],
   "source": [
    "class TrieNode:\n",
    "    def __init__(self):\n",
    "        self.next = collections.defaultdict(TrieNode)\n",
    "        self.ending_word = -1\n",
    "        self.palindrome_suffixes = []\n",
    "\n",
    "class Solution:\n",
    "    def palindromePairs(self, words):\n",
    "\n",
    "        # Create the Trie and add the reverses of all the words.\n",
    "        trie = TrieNode()\n",
    "        for i, word in enumerate(words):\n",
    "            word = word[::-1] # We want to insert the reverse.\n",
    "            current_level = trie\n",
    "            for j, c in enumerate(word):\n",
    "                # Check if remainder of word is a palindrome.\n",
    "                if word[j:] == word[j:][::-1]:# Is the word the same as its reverse?\n",
    "                    current_level.palindrome_suffixes.append(i)\n",
    "                # Move down the trie.\n",
    "                current_level = current_level.next[c]\n",
    "            current_level.ending_word = i\n",
    "\n",
    "        # Look up each word in the Trie and find palindrome pairs.\n",
    "        solutions = []\n",
    "        for i, word in enumerate(words):\n",
    "            current_level = trie\n",
    "            for j, c in enumerate(word):\n",
    "                # Check for case 3.\n",
    "                if current_level.ending_word != -1:\n",
    "                    if word[j:] == word[j:][::-1]: # Is the word the same as its reverse?\n",
    "                        solutions.append([i, current_level.ending_word])\n",
    "                if c not in current_level.next:\n",
    "                    break\n",
    "                current_level = current_level.next[c]\n",
    "            else: # Case 1 and 2 only come up if whole word was iterated.\n",
    "                # Check for case 1.\n",
    "                if current_level.ending_word != -1 and current_level.ending_word != i:\n",
    "                    solutions.append([i, current_level.ending_word])\n",
    "                # Check for case 2.\n",
    "                for j in current_level.palindrome_suffixes:\n",
    "                    solutions.append([i, j])\n",
    "        return solutions\n",
    "    \n",
    "    \n",
    "import collections\n",
    "s = Solution()\n",
    "s.palindromePairs([\"cat\", \"solostac\"])"
   ]
  },
  {
   "cell_type": "markdown",
   "metadata": {},
   "source": [
    "# Meeting Room Schedule (Heap)\n",
    "\n",
    "Given an array of meeting time intervals consisting of start and end times [[s1,e1],[s2,e2],...] (si < ei), find the minimum number of conference rooms required. <br>\n",
    "\n",
    "Example 1: <br>\n",
    "Input: [[0, 30],[5, 10],[15, 20]] <br>\n",
    "Output: 2 <br><br>\n",
    "\n",
    "Example 2:<br>\n",
    "Input: [[7,10],[2,4]]<br>\n",
    "Output: 1<br>\n",
    "\n",
    "Program workflow<br>\n",
    "1. sort intervals by starting time <br>\n",
    "2. add the initial meeting on the heap, use the end time as key <br>\n",
    "3. before trying to add new meeting, pop the meeting top if the meeting has ended <br>\n",
    "4. push the new meeting"
   ]
  },
  {
   "cell_type": "code",
   "execution_count": 28,
   "metadata": {},
   "outputs": [
    {
     "name": "stdout",
     "output_type": "stream",
     "text": [
      "[13, 15]\n"
     ]
    },
    {
     "data": {
      "text/plain": [
       "1"
      ]
     },
     "execution_count": 28,
     "metadata": {},
     "output_type": "execute_result"
    }
   ],
   "source": [
    "import heapq\n",
    "\n",
    "intervals = [[13,15],[1,13]]\n",
    "start = 0\n",
    "end = 1\n",
    "class Solution:\n",
    "    def minMeetingRooms(self, intervals: list) -> int:\n",
    "        if len(intervals) == 0:\n",
    "            return 0\n",
    "        intervals = sorted(intervals)\n",
    "        heap = []\n",
    "        heapq.heappush(heap, intervals[0][end])\n",
    "        max_len = 1\n",
    "        # the key of heap is the end time of meetings\n",
    "        for m in intervals[1:]:\n",
    "            print(m)\n",
    "            while(len(heap) > 0 and m[start] >= heap[0]):\n",
    "                heapq.heappop(heap)\n",
    "            heapq.heappush(heap, m[end])\n",
    "            max_len = len(heap) if max_len < len(heap) else max_len\n",
    "        return max_len\n",
    "    \n",
    "s = Solution()\n",
    "s.minMeetingRooms(intervals)"
   ]
  },
  {
   "cell_type": "markdown",
   "metadata": {},
   "source": [
    "# Ugly Value\n",
    "Write a program to find the n-th ugly number. <br>\n",
    "Ugly numbers are positive numbers whose prime factors only include 2, 3, 5.  <br><br>\n",
    "\n",
    "Example:<br>\n",
    "Input: n = 10 <br>\n",
    "Output: 12 <br>\n",
    "Explanation: 1, 2, 3, 4, 5, 6, 8, 9, 10, 12 is the sequence of the first 10 ugly numbers. <br>\n",
    "\n",
    "Video Solution: https://leetcode.com/problems/ugly-number-ii/solution/"
   ]
  },
  {
   "cell_type": "markdown",
   "metadata": {},
   "source": [
    "## Heap Solution"
   ]
  },
  {
   "cell_type": "code",
   "execution_count": 32,
   "metadata": {},
   "outputs": [
    {
     "data": {
      "text/plain": [
       "12"
      ]
     },
     "execution_count": 32,
     "metadata": {},
     "output_type": "execute_result"
    }
   ],
   "source": [
    "import copy\n",
    "class Solution:\n",
    "    def nthUglyNumber(self, n: int) -> int:\n",
    "        # for n in range(6, 100):\n",
    "        heap = [1]\n",
    "        seen = {1, }\n",
    "        pv = 1\n",
    "        while(n>0):\n",
    "            pv = heapq.heappop(heap)\n",
    "            n -= 1\n",
    "            for f in [2, 3, 5]:\n",
    "                if pv*f not in seen:\n",
    "                    heapq.heappush(heap, pv*f)\n",
    "                    seen.add(pv*f)\n",
    "        return pv\n",
    "\n",
    "s = Solution()\n",
    "s.nthUglyNumber(10)"
   ]
  },
  {
   "cell_type": "markdown",
   "metadata": {},
   "source": [
    "## Dynamic Programming"
   ]
  },
  {
   "cell_type": "code",
   "execution_count": 33,
   "metadata": {},
   "outputs": [
    {
     "data": {
      "text/plain": [
       "12"
      ]
     },
     "execution_count": 33,
     "metadata": {},
     "output_type": "execute_result"
    }
   ],
   "source": [
    "import numpy as np\n",
    "class Solution:\n",
    "    def nthUglyNumber(self, n: int) -> int:\n",
    "        # for n in range(6, 100):\n",
    "        u_nums = [1]\n",
    "        n -= 1\n",
    "        i2 = i3 = i5 = 0\n",
    "        while n > 0:\n",
    "            tmp = [u_nums[i2]*2, u_nums[i3]*3, u_nums[i5]*5]\n",
    "            u_nums.append(min(tmp))\n",
    "            n -= 1\n",
    "            if tmp[0] == min(tmp): i2 += 1\n",
    "            if tmp[1] == min(tmp): i3 += 1\n",
    "            if tmp[2] == min(tmp): i5 += 1\n",
    "        return u_nums[-1]\n",
    "\n",
    "s = Solution()\n",
    "s.nthUglyNumber(10)"
   ]
  },
  {
   "cell_type": "markdown",
   "metadata": {},
   "source": [
    "# Two Pointer + Hash map\n",
    "Longest Substring with At Most K Distinct Characters<br>\n",
    "https://leetcode.com/problems/longest-substring-with-at-most-k-distinct-characters/<br>\n",
    "This was a interview question from ultimate, I failed to answer it<br>\n",
    "Given a string, find the length of the longest substring T that contains at most k distinct characters.<br>\n",
    "\n",
    "Example 1:<br><br>\n",
    "\n",
    "Input: s = \"eceba\", k = 2<br>\n",
    "Output: 3<br>\n",
    "Explanation: T is \"ece\" which its length is 3.<br>\n",
    "Example 2:<br>\n",
    "<br>\n",
    "Input: s = \"aa\", k = 1<br>\n",
    "Output: 2<br>\n",
    "Explanation: T is \"aa\" which its length is 2.<br>"
   ]
  },
  {
   "cell_type": "code",
   "execution_count": 3,
   "metadata": {},
   "outputs": [
    {
     "name": "stdout",
     "output_type": "stream",
     "text": [
      "{'e': 0} 1\n",
      "{'e': 0, 'c': 1} 2\n",
      "{'e': 2, 'c': 1} 3\n",
      "{'e': 2, 'a': 3} 3\n",
      "{'a': 3, 'b': 4} 3\n"
     ]
    },
    {
     "data": {
      "text/plain": [
       "3"
      ]
     },
     "execution_count": 3,
     "metadata": {},
     "output_type": "execute_result"
    }
   ],
   "source": [
    "class Solution:  \n",
    "    def lengthOfLongestSubstringKDistinct(self, s: str, k: int) -> int:\n",
    "        if s == \"\" or k == 0: return 0\n",
    "        if len(s) == 1: return 1\n",
    "        l = 0\n",
    "        r = 0\n",
    "        max_len = 0\n",
    "        hm = {}\n",
    "        while(r < len(s)):\n",
    "            hm[s[r]] = r\n",
    "            r += 1\n",
    "            if len(hm.keys()) > k:\n",
    "                min_index = min(hm.values())\n",
    "                del hm[s[min_index]]\n",
    "                l = min_index + 1\n",
    "            max_len = max(r-l, max_len)\n",
    "            print(hm, max_len)\n",
    "            \n",
    "        return max_len\n",
    "    \n",
    "s = Solution()\n",
    "s.lengthOfLongestSubstringKDistinct(\"eceab\", 2)"
   ]
  },
  {
   "cell_type": "code",
   "execution_count": null,
   "metadata": {},
   "outputs": [],
   "source": []
  }
 ],
 "metadata": {
  "kernelspec": {
   "display_name": "Python 3",
   "language": "python",
   "name": "python3"
  },
  "language_info": {
   "codemirror_mode": {
    "name": "ipython",
    "version": 3
   },
   "file_extension": ".py",
   "mimetype": "text/x-python",
   "name": "python",
   "nbconvert_exporter": "python",
   "pygments_lexer": "ipython3",
   "version": "3.7.4"
  }
 },
 "nbformat": 4,
 "nbformat_minor": 2
}
