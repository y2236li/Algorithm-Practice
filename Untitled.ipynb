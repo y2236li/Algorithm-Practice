{
 "cells": [
  {
   "cell_type": "markdown",
   "metadata": {},
   "source": [
    "# Maximize Profit with K transaction -- Solved by Dynamic Programming"
   ]
  },
  {
   "cell_type": "markdown",
   "metadata": {},
   "source": [
    "<img src=\"img/Maximize Profit.png\" height=50>"
   ]
  },
  {
   "cell_type": "code",
   "execution_count": 3,
   "metadata": {},
   "outputs": [
    {
     "data": {
      "text/plain": [
       "93"
      ]
     },
     "execution_count": 3,
     "metadata": {},
     "output_type": "execute_result"
    }
   ],
   "source": [
    "prices = [5, 11, 3, 50, 60, 90]\n",
    "k = 2\n",
    "def maxProfitWithKTransactions(prices, k):\n",
    "    hash_table = {0: [0]*len(prices)}\n",
    "    for i in range(1, k+1):\n",
    "        hash_table[i] = [0]\n",
    "        for date in range(1, len(prices)):\n",
    "            last_day_max_profit = hash_table[i][date-1]\n",
    "            max_profit = last_day_max_profit\n",
    "            for last_sell_date in range(0, date):\n",
    "                last_sell_date_max_profit = hash_table[i-1][last_sell_date] + prices[date] - prices[last_sell_date]\n",
    "                max_profit = max(max_profit, last_sell_date_max_profit)\n",
    "            hash_table[i].append(max_profit)\n",
    "    return max_profit\n",
    "        \n",
    "maxProfitWithKTransactions(prices, k)"
   ]
  },
  {
   "cell_type": "code",
   "execution_count": null,
   "metadata": {},
   "outputs": [],
   "source": []
  },
  {
   "cell_type": "code",
   "execution_count": null,
   "metadata": {},
   "outputs": [],
   "source": []
  },
  {
   "cell_type": "code",
   "execution_count": null,
   "metadata": {},
   "outputs": [],
   "source": []
  },
  {
   "cell_type": "code",
   "execution_count": null,
   "metadata": {},
   "outputs": [],
   "source": []
  },
  {
   "cell_type": "code",
   "execution_count": null,
   "metadata": {},
   "outputs": [],
   "source": []
  }
 ],
 "metadata": {
  "kernelspec": {
   "display_name": "Python 3",
   "language": "python",
   "name": "python3"
  },
  "language_info": {
   "codemirror_mode": {
    "name": "ipython",
    "version": 3
   },
   "file_extension": ".py",
   "mimetype": "text/x-python",
   "name": "python",
   "nbconvert_exporter": "python",
   "pygments_lexer": "ipython3",
   "version": "3.7.3"
  }
 },
 "nbformat": 4,
 "nbformat_minor": 2
}
